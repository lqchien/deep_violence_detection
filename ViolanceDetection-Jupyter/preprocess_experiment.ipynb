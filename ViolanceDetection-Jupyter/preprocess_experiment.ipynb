{
 "cells": [
  {
   "cell_type": "code",
   "execution_count": 1,
   "metadata": {},
   "outputs": [],
   "source": [
    "!pip install tensorflow==1.13.1\n",
    "!pip install FFmpeg\n",
    "!pip install ffmpeg-python"
   ]
  },
  {
   "cell_type": "code",
   "execution_count": 474,
   "metadata": {},
   "outputs": [],
   "source": [
    "import random, time, ffmpeg\n",
    "import numpy as np\n",
    "from math import ceil\n",
    "import threading\n",
    "import cv2"
   ]
  },
  {
   "cell_type": "code",
   "execution_count": 499,
   "metadata": {},
   "outputs": [],
   "source": [
    "model_settings = {'max_steps': 10000, 'batch_size': 25, 'frames_per_batch': 16,\n",
    "                  'video_fps': 12, 'crop_size': 112, 'num_gpu': 1, 'channels': 3,\n",
    "                  'checkpoint_dir': './checkpoints',\n",
    "                  # 'model_read_dir' : './models/s1m_mod.model',\n",
    "                  # 'model_save_dir' : './models/C3D_1.model',\n",
    "                  'moving_decay': 0.9999, 'weight_decay': 0.00005, 'dropout': 0.5,\n",
    "                  'learning_rate': 1e-4, 'checkpoints': 100,\n",
    "                  'data_home': '../datasets/UCF-101/',\n",
    "                  'train_test_loc': '../datasets/UCF-ActionRecognitionSplits',\n",
    "                  'train_file_name': '/trainlist01.txt',\n",
    "                  'test_file_name': '/testlist01.txt',\n",
    "                  'num_thread': 8, 'queue_size': 1000,\n",
    "                  'read_pretrained_model': True}\n",
    "\n",
    "model_settings['total_batch'] = model_settings['batch_size'] * model_settings['num_gpu']\n",
    "model_settings['input_shape'] = (model_settings['frames_per_batch'],\n",
    "                                 model_settings['crop_size'],\n",
    "                                 model_settings['crop_size'],\n",
    "                                 model_settings['channels'])\n",
    "\n",
    "mean_dir = '../datasets/PreprocessData/' + 'crop_mean.npy'\n",
    "model_settings['np_mean'] = np.load(mean_dir).reshape(model_settings['input_shape'])"
   ]
  },
  {
   "cell_type": "code",
   "execution_count": 500,
   "metadata": {},
   "outputs": [],
   "source": [
    "train_dir_locations = model_settings['train_test_loc'] + model_settings['train_file_name']\n",
    "dir_videos, label_clips = get_data_dir(train_dir_locations)\n",
    "model_settings['train_list'] = shuffle_list(dir_clips, label_clips)"
   ]
  },
  {
   "cell_type": "code",
   "execution_count": 523,
   "metadata": {},
   "outputs": [],
   "source": [
    "# Reads train/test filenames from provided splits\n",
    "# Returns video directions and their labels in a list\n",
    "def get_data_dir(filename):\n",
    "    dir_videos, label_videos = [], []\n",
    "    with open(filename, 'r') as input_file:\n",
    "        for line in input_file:\n",
    "            file_name, label = line.split(' ')\n",
    "            dir_videos.append(file_name)\n",
    "            label_videos.append(int(label))\n",
    "    return dir_videos, label_videos\n",
    "\n",
    "\n",
    "# Shuffles video directions along with labels\n",
    "def shuffle_list(dir_videos, label_videos, seed=time.time()):\n",
    "    video_indices = list(range(len(dir_videos)))\n",
    "    random.seed(seed)\n",
    "    random.shuffle(video_indices)\n",
    "    shuffled_video_dirs = [dir_videos[i] for i in video_indices]\n",
    "    shuffled_labels = [label_videos[i] for i in video_indices]\n",
    "    return shuffled_video_dirs, shuffled_labels\n",
    "    \n",
    "# Given video directory it reads the video\n",
    "# extracts the frames, and do preprocessing operation\n",
    "def read_clip(dirname, model_settings):\n",
    "    dirname = model_settings['data_home'] + dirname\n",
    "    frames_per_batch = model_settings['frames_per_batch']\n",
    "    video_fps = model_settings['video_fps']\n",
    "    crop_size = model_settings['crop_size']\n",
    "    np_mean = model_settings['np_mean']\n",
    "    horizontal_flip = random.random()\n",
    "\n",
    "    probe = ffmpeg.probe(dirname)\n",
    "    video_info = probe[\"streams\"][0]\n",
    "    video_width = video_info[\"width\"]\n",
    "    video_height = video_info[\"height\"]\n",
    "    video_duration = float(video_info[\"duration\"])\n",
    "    num_frame = int(video_info[\"nb_frames\"])\n",
    "\n",
    "    rand_max = int(num_frame - ((num_frame / video_duration) * (frames_per_batch / video_fps)))\n",
    "    start_frame = random.randint(0, rand_max - 1)\n",
    "    #end_frame = ceil(start_frame + (num_frame / video_duration) * frames_per_batch / video_fps + 1)\n",
    "    video_start = (video_duration / num_frame) * start_frame\n",
    "    video_end = video_start + ((frames_per_batch+1) / video_fps) \n",
    "\n",
    "    x_pos = max(video_width - video_height, 0) // 2\n",
    "    y_pos = max(video_height - video_width, 0) // 2\n",
    "    crop_size1 = min(video_height, video_width)\n",
    "    # Input video\n",
    "    ff = ffmpeg.input(dirname, ss=video_start, t=video_end-video_start)\n",
    "    # Trim video\n",
    "    #ff = ff.trim(end_frame='50')\n",
    "    # Divide into frames\n",
    "    ff = ffmpeg.filter(ff, 'fps', video_fps)\n",
    "    # Crop\n",
    "    ff = ffmpeg.crop(ff, x_pos, y_pos, crop_size1, crop_size1)\n",
    "    # Subsample\n",
    "    ff = ffmpeg.filter(ff, 'scale', crop_size, crop_size)\n",
    "    # Horizontal flip with some probability\n",
    "    if horizontal_flip > 0.5:\n",
    "        ff = ffmpeg.hflip(ff)\n",
    "    # Output the video\n",
    "    ff = ffmpeg.output(ff, 'pipe:',\n",
    "                       format='rawvideo',\n",
    "                       pix_fmt='rgb24')\n",
    "    # Run Process in quiet mode\n",
    "    out, _ = ffmpeg.run(ff, capture_stdout=True, quiet=True)\n",
    "    # Extract to numpy array\n",
    "    video = np.frombuffer(out, np.uint8). \\\n",
    "        reshape([-1, crop_size, crop_size, 3])\n",
    "\n",
    "    # Substracts the mean and converts type to float32\n",
    "    video = video[:16]# - np_mean\n",
    "    #print(video.shape)\n",
    "    return video\n",
    "\n",
    "\n",
    "def read_clips(dirnames, model_settings):\n",
    "    for dirname in dirnames:\n",
    "        read_clip(dirname, model_settings)"
   ]
  },
  {
   "cell_type": "code",
   "execution_count": 524,
   "metadata": {},
   "outputs": [
    {
     "data": {
      "text/plain": [
       "'Biking/v_Biking_g10_c06.avi'"
      ]
     },
     "execution_count": 524,
     "metadata": {},
     "output_type": "execute_result"
    }
   ],
   "source": [
    "dirname"
   ]
  },
  {
   "cell_type": "code",
   "execution_count": 531,
   "metadata": {},
   "outputs": [
    {
     "name": "stdout",
     "output_type": "stream",
     "text": [
      "Bowling/v_Bowling_g17_c05.avi\n"
     ]
    }
   ],
   "source": [
    "dirname = dir_videos[1500]\n",
    "print(dirname)\n",
    "video = read_clip(dirname, model_settings)"
   ]
  },
  {
   "cell_type": "code",
   "execution_count": 476,
   "metadata": {},
   "outputs": [
    {
     "name": "stdout",
     "output_type": "stream",
     "text": [
      "Time diff: 0.6578550338745117\n"
     ]
    }
   ],
   "source": [
    "dirnames_threads = []\n",
    "threads = []\n",
    "\n",
    "for i in range(8):\n",
    "    cur = []\n",
    "    for j in range(5):\n",
    "        read_index = 5 * i + j\n",
    "        video_dir, label = dir_videos[read_index], label_clips[read_index]\n",
    "        video_dir = model_settings['data_home'] + video_dir\n",
    "        cur.append(video_dir)\n",
    "    dirnames_threads.append(cur)\n",
    "\n",
    "\n",
    "for i in range(8):\n",
    "    dirnames = dirnames_threads[i]\n",
    "    threads.append(threading.Thread(target=read_clips, args=(dirnames, model_settings)))\n",
    "\n",
    "time0 = time.time()\n",
    "for i in range(8):\n",
    "    threads[i].start()\n",
    "\n",
    "for i in range(8):\n",
    "    threads[i].join()\n",
    "print('Time diff:', time.time() - time0)"
   ]
  },
  {
   "cell_type": "code",
   "execution_count": 438,
   "metadata": {},
   "outputs": [
    {
     "name": "stdout",
     "output_type": "stream",
     "text": [
      "35 1.6 3.0166666666666666\n"
     ]
    }
   ],
   "source": [
    "index = 150\n",
    "dirname = model_settings['data_home'] + dir_videos[index]\n",
    "frames_per_batch = model_settings['frames_per_batch']\n",
    "video_fps = model_settings['video_fps']\n",
    "crop_size = model_settings['crop_size']\n",
    "np_mean = model_settings['np_mean']\n",
    "horizontal_flip = random.random()\n",
    "\n",
    "probe = ffmpeg.probe(dirname)\n",
    "video_info = probe[\"streams\"][0]\n",
    "video_width = video_info[\"width\"]\n",
    "video_height = video_info[\"height\"]\n",
    "video_duration = float(video_info[\"duration\"])\n",
    "num_frame = int(video_info[\"nb_frames\"])\n",
    "\n",
    "rand_max = int(num_frame - ((num_frame / video_duration) * (frames_per_batch / video_fps)))\n",
    "start_frame = random.randint(0, rand_max - 1)\n",
    "end_frame = ceil(start_frame + (num_frame / video_duration) * frames_per_batch / video_fps + 1)\n",
    "video_start = (video_duration / num_frame) * start_frame\n",
    "video_end = video_start + ((frames_per_batch+1) / video_fps) \n",
    "print(end_frame-start_frame, video_start, video_end)\n",
    "\n",
    "x_pos = max(video_width - video_height, 0) // 2\n",
    "y_pos = max(video_height - video_width, 0) // 2\n",
    "crop_size1 = min(video_height, video_width)\n"
   ]
  },
  {
   "cell_type": "code",
   "execution_count": 441,
   "metadata": {},
   "outputs": [
    {
     "name": "stdout",
     "output_type": "stream",
     "text": [
      "(16, 112, 112, 3)\n"
     ]
    }
   ],
   "source": [
    "# Input video\n",
    "ff = ffmpeg.input(dirname, ss=video_start, t=video_end-video_start)\n",
    "# Trim video\n",
    "#ff = ff.trim(end_frame='50')\n",
    "# Divide into frames\n",
    "ff = ffmpeg.filter(ff, 'fps', video_fps)\n",
    "# Crop\n",
    "ff = ffmpeg.crop(ff, x_pos, y_pos, crop_size1, crop_size1)\n",
    "# Subsample\n",
    "ff = ffmpeg.filter(ff, 'scale', crop_size, crop_size)\n",
    "# Horizontal flip with some probability\n",
    "if horizontal_flip > 0.5:\n",
    "    ff = ffmpeg.hflip(ff)\n",
    "# Output the video\n",
    "ff = ffmpeg.output(ff, 'pipe:',\n",
    "                   format='rawvideo',\n",
    "                   pix_fmt='rgb24')\n",
    "# Run Process in quiet mode\n",
    "out, _ = ffmpeg.run(ff, capture_stdout=True, quiet=True)\n",
    "# Extract to numpy array\n",
    "video = np.frombuffer(out, np.uint8). \\\n",
    "    reshape([-1, crop_size, crop_size, 3])\n",
    "\n",
    "# Substracts the mean and converts type to float32\n",
    "video = video[:16] - np_mean\n",
    "#print(video.shape)\n"
   ]
  },
  {
   "cell_type": "code",
   "execution_count": null,
   "metadata": {},
   "outputs": [],
   "source": [
    "index = 150\n",
    "dirname = model_settings['data_home'] + dir_videos[index]\n",
    "frames_per_batch = model_settings['frames_per_batch']\n",
    "video_fps = model_settings['video_fps']\n",
    "crop_size = model_settings['crop_size']\n",
    "np_mean = model_settings['np_mean']\n",
    "horizontal_flip = random.random()\n",
    "\n",
    "probe = ffmpeg.probe(dirname)\n",
    "video_info = probe[\"streams\"][0]\n",
    "video_width = video_info[\"width\"]\n",
    "video_height = video_info[\"height\"]\n",
    "video_duration = float(video_info[\"duration\"])\n",
    "num_frame = int(video_info[\"nb_frames\"])\n",
    "\n",
    "rand_max = int(num_frame - ((num_frame / video_duration) * (frames_per_batch / video_fps)))\n",
    "start_frame = random.randint(0, rand_max - 1)\n",
    "end_frame = ceil(start_frame + (num_frame / video_duration) * frames_per_batch / video_fps + 1)\n",
    "#end_frame = min(end_frame, num_frame)\n",
    "\n",
    "x_pos = max(video_width - video_height, 0) // 2\n",
    "y_pos = max(video_height - video_width, 0) // 2\n",
    "crop_size1 = min(video_height, video_width)"
   ]
  }
 ],
 "metadata": {
  "kernelspec": {
   "display_name": "Python 3",
   "language": "python",
   "name": "python3"
  },
  "language_info": {
   "codemirror_mode": {
    "name": "ipython",
    "version": 3
   },
   "file_extension": ".py",
   "mimetype": "text/x-python",
   "name": "python",
   "nbconvert_exporter": "python",
   "pygments_lexer": "ipython3",
   "version": "3.6.7"
  }
 },
 "nbformat": 4,
 "nbformat_minor": 2
}
